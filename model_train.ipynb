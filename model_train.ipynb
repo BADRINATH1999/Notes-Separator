{
 "cells": [
  {
   "cell_type": "code",
   "execution_count": 1,
   "metadata": {},
   "outputs": [],
   "source": [
    "'''importing required libraries'''\n",
    "\n",
    "import matplotlib.pyplot as plt\n",
    "import numpy as np\n",
    "%matplotlib inline\n",
    "plt.style.use('ggplot')\n",
    "try:\n",
    "    import cPickle as pickle\n",
    "except ImportError: \n",
    "    import pickle"
   ]
  },
  {
   "cell_type": "code",
   "execution_count": 2,
   "metadata": {},
   "outputs": [
    {
     "name": "stderr",
     "output_type": "stream",
     "text": [
      "Using TensorFlow backend.\n"
     ]
    }
   ],
   "source": [
    "'''importing required libraries'''\n",
    "\n",
    "from keras.models import Sequential\n",
    "from keras.layers import Input, Dropout, Flatten, Conv2D, MaxPooling2D, Dense, Activation, BatchNormalization\n",
    "from keras.optimizers import Adam\n",
    "from keras.models import Model\n",
    "from sklearn.metrics import confusion_matrix\n",
    "from IPython.display import SVG\n",
    "from keras.utils.vis_utils import model_to_dot\n",
    "from keras.utils import plot_model\n",
    "from PIL import Image\n",
    "import pydot\n",
    "import graphviz"
   ]
  },
  {
   "cell_type": "code",
   "execution_count": 3,
   "metadata": {},
   "outputs": [],
   "source": [
    "'''opens features.p and return all splits in it'''\n",
    "\n",
    "def load_dataset():\n",
    "    with open('features.p', 'rb') as fp:\n",
    "        features = pickle.load(fp)\n",
    "    X_train, Y_train, X_test, Y_test = features[\"data_train\"], features[\"labels_train\"], features[\"data_test\"], features[\"labels_test\"]\n",
    "    return X_train, Y_train, X_test, Y_test"
   ]
  },
  {
   "cell_type": "code",
   "execution_count": 4,
   "metadata": {},
   "outputs": [
    {
     "name": "stdout",
     "output_type": "stream",
     "text": [
      "number of training examples = 996\n",
      "number of test examples = 249\n",
      "X_train shape: (996, 96, 96, 3)\n",
      "Y_train shape: (996, 1)\n",
      "X_test shape: (249, 96, 96, 3)\n",
      "Y_test shape: (249, 1)\n"
     ]
    }
   ],
   "source": [
    "'''printing sizes of all splits and loading data'''\n",
    "\n",
    "X_train, Y_train, X_test, Y_test = load_dataset()\n",
    "\n",
    "print (\"number of training examples = \" + str(X_train.shape[0]))\n",
    "print (\"number of test examples = \" + str(X_test.shape[0]))\n",
    "print (\"X_train shape: \" + str(X_train.shape))\n",
    "print (\"Y_train shape: \" + str(Y_train.shape))\n",
    "print (\"X_test shape: \" + str(X_test.shape))\n",
    "print (\"Y_test shape: \" + str(Y_test.shape))"
   ]
  },
  {
   "cell_type": "code",
   "execution_count": 5,
   "metadata": {},
   "outputs": [
    {
     "name": "stdout",
     "output_type": "stream",
     "text": [
      "(96, 96, 3)\n"
     ]
    }
   ],
   "source": [
    "'''extracting input shape from X_train'''\n",
    "\n",
    "Input_Shape = (X_train.shape[1],X_train.shape[2],X_train.shape[3])\n",
    "print(Input_Shape)"
   ]
  },
  {
   "cell_type": "code",
   "execution_count": 6,
   "metadata": {},
   "outputs": [],
   "source": [
    "'''defining model'''\n",
    "\n",
    "def model(input_shape):\n",
    "    # Define the input placeholder as a tensor with shape input_shape. Think of this as your input image!\n",
    "    X_input = Input(input_shape)\n",
    "\n",
    "    # CONV -> BN -> RELU Block applied to X\n",
    "    X = Conv2D(32, (3, 3), strides = (1, 1), padding = \"same\", name = 'conv0')(X_input)\n",
    "    X = BatchNormalization(axis = 3, name = 'bn0')(X)\n",
    "    X = Activation('relu')(X)\n",
    "\n",
    "    # MAXPOOL\n",
    "    X = MaxPooling2D((2, 2), name = \"mp0\")(X)\n",
    "    \n",
    "    \n",
    "    # CONV -> BN -> RELU Block applied to X\n",
    "    X = Conv2D(64, (3, 3), strides = (1, 1), padding = \"same\", name = 'conv1')(X)\n",
    "    X = BatchNormalization(axis = 3, name = 'bn1')(X)\n",
    "    X = Activation('relu')(X)\n",
    "\n",
    "    # MAXPOOL\n",
    "    X = MaxPooling2D((2, 2), name = \"mp1\")(X)\n",
    "    \n",
    "    # CONV -> BN -> RELU Block applied to X\n",
    "    X = Conv2D(128, (3, 3), strides = (1, 1), padding = \"same\", name = 'conv2')(X)\n",
    "    X = BatchNormalization(axis = 3, name = 'bn2')(X)\n",
    "    X = Activation('relu')(X)\n",
    "\n",
    "    # MAXPOOL\n",
    "    X = MaxPooling2D((2, 2), name='max_pool')(X)\n",
    "\n",
    "    \n",
    "    # CONV -> BN -> RELU Block applied to X\n",
    "    X = Conv2D(256, (3, 3), strides = (1, 1), padding = \"same\", name = 'conv3')(X)\n",
    "    X = BatchNormalization(axis = 3, name = 'bn3')(X)\n",
    "    X = Activation('relu')(X)\n",
    "\n",
    "    # MAXPOOL\n",
    "    X = MaxPooling2D((2, 2), name = \"mp2\")(X)\n",
    "    \n",
    "    \n",
    "    # CONV -> BN -> RELU Block applied to X\n",
    "    X = Conv2D(512, (3, 3), strides = (1, 1), padding = \"same\", name = 'conv4')(X)\n",
    "    X = BatchNormalization(axis = 3, name = 'bn4')(X)\n",
    "    X = Activation('relu')(X)\n",
    "\n",
    "    # MAXPOOL\n",
    "    X = MaxPooling2D((2, 2), name = \"mp3\")(X)\n",
    "    \n",
    "    \n",
    "    # FLATTEN X (means convert it to a vector) + FULLYCONNECTED\n",
    "    X = Flatten()(X)\n",
    "    X = Dense(50, activation = 'relu', name='fc0')(X)\n",
    "    X = Dense(10, activation = 'relu', name ='fc1')(X)\n",
    "    X = Dense(1, activation = 'sigmoid', name = 'fc2')(X)\n",
    "\n",
    "    # Create model. This creates your Keras model instance, you'll use this instance to train/test the model.\n",
    "    model = Model(inputs = X_input, outputs = X, name='Notesmodel')\n",
    "\n",
    "    return model"
   ]
  },
  {
   "cell_type": "code",
   "execution_count": 7,
   "metadata": {},
   "outputs": [],
   "source": [
    "'''creating model'''\n",
    "\n",
    "NotesModel = model(Input_Shape)"
   ]
  },
  {
   "cell_type": "code",
   "execution_count": 8,
   "metadata": {},
   "outputs": [],
   "source": [
    "'''compiling NotesModel'''\n",
    "\n",
    "NotesModel.compile(optimizer = \"adam\",loss = \"binary_crossentropy\",metrics = [\"accuracy\"])"
   ]
  },
  {
   "cell_type": "code",
   "execution_count": 9,
   "metadata": {},
   "outputs": [
    {
     "name": "stdout",
     "output_type": "stream",
     "text": [
      "Epoch 1/20\n",
      "996/996 [==============================] - 118s 119ms/step - loss: 0.1524 - acc: 0.9568\n",
      "Epoch 2/20\n",
      "996/996 [==============================] - 118s 118ms/step - loss: 0.0680 - acc: 0.9779\n",
      "Epoch 3/20\n",
      "996/996 [==============================] - 123s 124ms/step - loss: 0.0445 - acc: 0.9880\n",
      "Epoch 4/20\n",
      "996/996 [==============================] - 116s 117ms/step - loss: 0.0457 - acc: 0.9859\n",
      "Epoch 5/20\n",
      "996/996 [==============================] - 117s 117ms/step - loss: 0.0273 - acc: 0.9930\n",
      "Epoch 6/20\n",
      "996/996 [==============================] - 122s 122ms/step - loss: 0.0219 - acc: 0.9950\n",
      "Epoch 7/20\n",
      "996/996 [==============================] - 118s 118ms/step - loss: 0.0225 - acc: 0.9940\n",
      "Epoch 8/20\n",
      "996/996 [==============================] - 121s 121ms/step - loss: 0.0153 - acc: 0.9960\n",
      "Epoch 9/20\n",
      "996/996 [==============================] - 118s 118ms/step - loss: 0.0152 - acc: 0.9970\n",
      "Epoch 10/20\n",
      "996/996 [==============================] - 115s 115ms/step - loss: 0.0313 - acc: 0.9869\n",
      "Epoch 11/20\n",
      "996/996 [==============================] - 115s 116ms/step - loss: 0.0275 - acc: 0.9900\n",
      "Epoch 12/20\n",
      "996/996 [==============================] - 105s 106ms/step - loss: 0.0089 - acc: 0.9970\n",
      "Epoch 13/20\n",
      "996/996 [==============================] - 106s 107ms/step - loss: 0.0027 - acc: 0.9990\n",
      "Epoch 14/20\n",
      "996/996 [==============================] - 106s 107ms/step - loss: 0.0029 - acc: 0.9990\n",
      "Epoch 15/20\n",
      "996/996 [==============================] - 106s 106ms/step - loss: 0.0078 - acc: 0.9960\n",
      "Epoch 16/20\n",
      "996/996 [==============================] - 107s 108ms/step - loss: 0.0135 - acc: 0.9930\n",
      "Epoch 17/20\n",
      "996/996 [==============================] - 108s 108ms/step - loss: 0.0096 - acc: 0.9960\n",
      "Epoch 18/20\n",
      "996/996 [==============================] - 118s 119ms/step - loss: 0.0012 - acc: 1.0000\n",
      "Epoch 19/20\n",
      "996/996 [==============================] - 116s 117ms/step - loss: 6.7172e-04 - acc: 1.0000\n",
      "Epoch 20/20\n",
      "996/996 [==============================] - 108s 108ms/step - loss: 1.0414e-04 - acc: 1.0000\n"
     ]
    },
    {
     "data": {
      "text/plain": [
       "<keras.callbacks.History at 0x2067c8a76a0>"
      ]
     },
     "execution_count": 9,
     "metadata": {},
     "output_type": "execute_result"
    }
   ],
   "source": [
    "'''training'''\n",
    "\n",
    "NotesModel.fit(x = X_train,y = Y_train,epochs = 20 ,batch_size = 32 )"
   ]
  },
  {
   "cell_type": "code",
   "execution_count": 10,
   "metadata": {},
   "outputs": [],
   "source": [
    "# Save the weights\n",
    "NotesModel.save_weights('models/model_weights3.h5')\n",
    "\n",
    "# Save the model architecture\n",
    "with open('models/model_architecture3.json', 'w') as f:\n",
    "    f.write(NotesModel.to_json())"
   ]
  },
  {
   "cell_type": "code",
   "execution_count": 11,
   "metadata": {},
   "outputs": [
    {
     "name": "stdout",
     "output_type": "stream",
     "text": [
      "249/249 [==============================] - 7s 26ms/step\n",
      "\n",
      "Loss = 0.05321503319227264\n",
      "Test Accuracy = 0.9919678714859438\n"
     ]
    }
   ],
   "source": [
    "'''evaluating the model'''\n",
    "\n",
    "preds = NotesModel.evaluate(x = X_test,y = Y_test)\n",
    "print()\n",
    "print (\"Loss = \" + str(preds[0]))\n",
    "print (\"Test Accuracy = \" + str(preds[1]))"
   ]
  },
  {
   "cell_type": "code",
   "execution_count": 12,
   "metadata": {},
   "outputs": [],
   "source": [
    "'''predicted values for X_test with 75% as base confidence'''\n",
    "\n",
    "y_pred = NotesModel.predict(X_test)\n",
    "y_pred = (y_pred > 0.75)"
   ]
  },
  {
   "cell_type": "code",
   "execution_count": 13,
   "metadata": {},
   "outputs": [],
   "source": [
    "'''calling confusion matrix'''\n",
    "\n",
    "cm = confusion_matrix(Y_test, y_pred)"
   ]
  },
  {
   "cell_type": "code",
   "execution_count": 14,
   "metadata": {},
   "outputs": [
    {
     "data": {
      "text/plain": [
       "array([[ 72,   1],\n",
       "       [  0, 176]], dtype=int64)"
      ]
     },
     "execution_count": 14,
     "metadata": {},
     "output_type": "execute_result"
    }
   ],
   "source": [
    "cm"
   ]
  },
  {
   "cell_type": "code",
   "execution_count": 15,
   "metadata": {
    "scrolled": true
   },
   "outputs": [
    {
     "name": "stdout",
     "output_type": "stream",
     "text": [
      "_________________________________________________________________\n",
      "Layer (type)                 Output Shape              Param #   \n",
      "=================================================================\n",
      "input_1 (InputLayer)         (None, 96, 96, 3)         0         \n",
      "_________________________________________________________________\n",
      "conv0 (Conv2D)               (None, 96, 96, 32)        896       \n",
      "_________________________________________________________________\n",
      "bn0 (BatchNormalization)     (None, 96, 96, 32)        128       \n",
      "_________________________________________________________________\n",
      "activation_1 (Activation)    (None, 96, 96, 32)        0         \n",
      "_________________________________________________________________\n",
      "mp0 (MaxPooling2D)           (None, 48, 48, 32)        0         \n",
      "_________________________________________________________________\n",
      "conv1 (Conv2D)               (None, 48, 48, 64)        18496     \n",
      "_________________________________________________________________\n",
      "bn1 (BatchNormalization)     (None, 48, 48, 64)        256       \n",
      "_________________________________________________________________\n",
      "activation_2 (Activation)    (None, 48, 48, 64)        0         \n",
      "_________________________________________________________________\n",
      "mp1 (MaxPooling2D)           (None, 24, 24, 64)        0         \n",
      "_________________________________________________________________\n",
      "conv2 (Conv2D)               (None, 24, 24, 128)       73856     \n",
      "_________________________________________________________________\n",
      "bn2 (BatchNormalization)     (None, 24, 24, 128)       512       \n",
      "_________________________________________________________________\n",
      "activation_3 (Activation)    (None, 24, 24, 128)       0         \n",
      "_________________________________________________________________\n",
      "max_pool (MaxPooling2D)      (None, 12, 12, 128)       0         \n",
      "_________________________________________________________________\n",
      "conv3 (Conv2D)               (None, 12, 12, 256)       295168    \n",
      "_________________________________________________________________\n",
      "bn3 (BatchNormalization)     (None, 12, 12, 256)       1024      \n",
      "_________________________________________________________________\n",
      "activation_4 (Activation)    (None, 12, 12, 256)       0         \n",
      "_________________________________________________________________\n",
      "mp2 (MaxPooling2D)           (None, 6, 6, 256)         0         \n",
      "_________________________________________________________________\n",
      "conv4 (Conv2D)               (None, 6, 6, 512)         1180160   \n",
      "_________________________________________________________________\n",
      "bn4 (BatchNormalization)     (None, 6, 6, 512)         2048      \n",
      "_________________________________________________________________\n",
      "activation_5 (Activation)    (None, 6, 6, 512)         0         \n",
      "_________________________________________________________________\n",
      "mp3 (MaxPooling2D)           (None, 3, 3, 512)         0         \n",
      "_________________________________________________________________\n",
      "flatten_1 (Flatten)          (None, 4608)              0         \n",
      "_________________________________________________________________\n",
      "fc0 (Dense)                  (None, 50)                230450    \n",
      "_________________________________________________________________\n",
      "fc1 (Dense)                  (None, 10)                510       \n",
      "_________________________________________________________________\n",
      "fc2 (Dense)                  (None, 1)                 11        \n",
      "=================================================================\n",
      "Total params: 1,803,515\n",
      "Trainable params: 1,801,531\n",
      "Non-trainable params: 1,984\n",
      "_________________________________________________________________\n"
     ]
    }
   ],
   "source": [
    "'''summary of our NotesModel'''\n",
    "\n",
    "NotesModel.summary()"
   ]
  },
  {
   "cell_type": "code",
   "execution_count": 16,
   "metadata": {},
   "outputs": [
    {
     "data": {
      "text/plain": [
       "<matplotlib.image.AxesImage at 0x2060aa0d2e8>"
      ]
     },
     "execution_count": 16,
     "metadata": {},
     "output_type": "execute_result"
    },
    {
     "data": {
      "image/png": "[encoded data removed]",
      "text/plain": [
       "<Figure size 432x288 with 1 Axes>"
      ]
     },
     "metadata": {
      "needs_background": "light"
     },
     "output_type": "display_data"
    }
   ],
   "source": [
    "img = Image.open('model_visualisation.png').convert(\"RGB\")\n",
    "pixels = np.array(img)\n",
    "plt.imshow(pixels)"
   ]
  },
  {
   "cell_type": "code",
   "execution_count": null,
   "metadata": {},
   "outputs": [],
   "source": [
    "'''visualising model'''\n",
    "\n",
    "plot_model(NotesModel, to_file='NotesModel.png')\n",
    "SVG(model_to_dot(NotesModel).create(prog='dot', format='svg'))"
   ]
  }
 ],
 "metadata": {
  "kernelspec": {
   "display_name": "Python 3",
   "language": "python",
   "name": "python3"
  },
  "language_info": {
   "codemirror_mode": {
    "name": "ipython",
    "version": 3
   },
   "file_extension": ".py",
   "mimetype": "text/x-python",
   "name": "python",
   "nbconvert_exporter": "python",
   "pygments_lexer": "ipython3",
   "version": "3.6.8"
  }
 },
 "nbformat": 4,
 "nbformat_minor": 2
}
